{
  "nbformat": 4,
  "nbformat_minor": 0,
  "metadata": {
    "kernelspec": {
      "display_name": "Python 3",
      "language": "python",
      "name": "python3"
    },
    "language_info": {
      "codemirror_mode": {
        "name": "ipython",
        "version": 3
      },
      "file_extension": ".py",
      "mimetype": "text/x-python",
      "name": "python",
      "nbconvert_exporter": "python",
      "pygments_lexer": "ipython3",
      "version": "3.7.6"
    },
    "colab": {
      "name": "Colab_pacman_AE_Convolutional.ipynb",
      "provenance": [],
      "collapsed_sections": [
        "tm0WSFF3QJ91",
        "fXcPTDwtQJ94",
        "OyvmDSoGQJ-d",
        "TQGKTwmIQJ-y",
        "hyGIWMw0QJ-3",
        "om6cpn0MQJ-4",
        "UIBX3nkFQJ_A",
        "pxOSw9zTQJ_L",
        "uCauv_S7QJ_S",
        "FmFg_UvqQJ_Z",
        "3MsXIkSKQJ_l",
        "gsTfwdEKQJ_l",
        "wPbD5xjiQJ_m",
        "mspYqmklQJ_1",
        "wJfJ_Z8aQJ__",
        "rGs5Y689QKAI"
      ],
      "toc_visible": true
    },
    "accelerator": "GPU"
  },
  "cells": [
    {
      "cell_type": "code",
      "metadata": {
        "id": "iJ0-eJQg8mte"
      },
      "source": [
        "!git clone https://github.com/azeghost/Generative_Models.git \n",
        "%cd /content/Generative_Models/\n",
        "# !git checkout dev\n",
        "\n",
        "!pip -q install -r /content/Generative_Models/requirements.txt\n",
        "%cd /content/"
      ],
      "execution_count": null,
      "outputs": []
    },
    {
      "cell_type": "code",
      "metadata": {
        "id": "kjhm1MCJ8tez"
      },
      "source": [
        "import os\n",
        "os.chdir('/content/Generative_Models/')\n",
        "import sys\n",
        "sep_local = os.path.sep\n",
        "dataset_name = 'mspacman'\n",
        "DATA_DOWN_PATH = os.getcwd() + sep_local+'data'\n",
        "Script_dir = os.getcwd() + sep_local+'data'+sep_local+'download_atari_datasets.sh'\n",
        "# Script call to download \"mspacman\" dataset_name \n",
        "!/bin/bash $Script_dir -f $DATA_DOWN_PATH -d $dataset_name"
      ],
      "execution_count": null,
      "outputs": []
    },
    {
      "cell_type": "code",
      "metadata": {
        "id": "-l7M5yMEEl2d"
      },
      "source": [
        "from google.colab import output #Audio beep to click link and authenticate drive\n",
        "output.eval_js('new Audio(\"https://upload.wikimedia.org/wikipedia/commons/0/05/Beep-09.ogg\").play()')"
      ],
      "execution_count": null,
      "outputs": []
    },
    {
      "cell_type": "code",
      "metadata": {
        "id": "S5tSNtB-8v9c"
      },
      "source": [
        "from google.colab import drive\n",
        "# from google.colab import output #Audio beep to click link and authenticate drive\n",
        "# output.eval_js('new Audio(\"https://upload.wikimedia.org/wikipedia/commons/0/05/Beep-09.ogg\").play()')\n",
        "drive.mount('/content/drive')\n",
        "MAIN_SAVE_DIR = '/content/drive/My Drive/Results_Fall'\n",
        "!mkdir /content/drive/My\\ Drive/Results_Fall\n",
        "IMG_DIR = '/content/Generative_Models/data/.atari_datasets/mspacman/atari_v1/screens/mspacman' #change .mspacman here as well\n",
        "images_dir = IMG_DIR"
      ],
      "execution_count": null,
      "outputs": []
    },
    {
      "cell_type": "markdown",
      "metadata": {
        "id": "4p4EwNxFQJ87"
      },
      "source": [
        "# Settings"
      ]
    },
    {
      "cell_type": "code",
      "metadata": {
        "id": "DUdKVhwrQJ88"
      },
      "source": [
        "%env TF_KERAS = 1\n",
        "import os\n",
        "sep_local = os.path.sep\n",
        "# sys.path.append('..' + sep_local + '..' + sep_local +'..' + sep_local + '..' + sep_local + '..'+ sep_local + '..') # For Windows import\n",
        "# os.chdir('..' + sep_local + '..' + sep_local +'..' + sep_local + '..' + sep_local + '..'+ sep_local + '..') # For Linux import\n",
        "os.chdir('/content/Generative_Models/')\n",
        "print(sep_local)\n",
        "print(os.getcwd())"
      ],
      "execution_count": null,
      "outputs": []
    },
    {
      "cell_type": "code",
      "metadata": {
        "id": "OhcK53WEQJ9B"
      },
      "source": [
        "import tensorflow as tf\n",
        "print(tf.__version__)"
      ],
      "execution_count": null,
      "outputs": []
    },
    {
      "cell_type": "markdown",
      "metadata": {
        "pycharm": {
          "name": "#%% md\n"
        },
        "id": "1_BqrpyrQJ9G"
      },
      "source": [
        "# Dataset loading"
      ]
    },
    {
      "cell_type": "code",
      "metadata": {
        "pycharm": {
          "name": "#%%\n"
        },
        "id": "umGJnfYiQJ9H"
      },
      "source": [
        "dataset_name='atari_pacman'"
      ],
      "execution_count": null,
      "outputs": []
    },
    {
      "cell_type": "code",
      "metadata": {
        "id": "aitQOAKAQJ9L"
      },
      "source": [
        "images_dir = IMG_DIR\n",
        "# images_dir = '/home/azeghost/datasets/.mspacman/atari_v1/screens/mspacman' #Linux\n",
        "#images_dir = 'C:\\\\projects\\\\pokemon\\DS06\\\\'\n",
        "validation_percentage = 30\n",
        "valid_format = 'png'"
      ],
      "execution_count": null,
      "outputs": []
    },
    {
      "cell_type": "code",
      "metadata": {
        "id": "bcU8MV55QJ9P"
      },
      "source": [
        "from training.generators.from_images.file_image_generator import create_image_lists, get_generators"
      ],
      "execution_count": null,
      "outputs": []
    },
    {
      "cell_type": "code",
      "metadata": {
        "id": "yONdlWPGQJ9T"
      },
      "source": [
        "imgs_list = create_image_lists(\n",
        "    image_dir=images_dir, \n",
        "    validation_pct=validation_percentage, \n",
        "    valid_imgae_formats=valid_format,\n",
        "    verbose= 0 \n",
        ")"
      ],
      "execution_count": null,
      "outputs": []
    },
    {
      "cell_type": "code",
      "metadata": {
        "id": "WQsDizmaQJ9X"
      },
      "source": [
        "scale=1\n",
        "image_size=(160//scale, 210//scale, 3)\n",
        "\n",
        "batch_size = 10\n",
        "EPIS_LEN = 10\n",
        "EPIS_SHIFT = 5\n",
        "\n",
        "inputs_shape = image_size\n",
        "latents_dim = 30\n",
        "intermediate_dim = 30"
      ],
      "execution_count": null,
      "outputs": []
    },
    {
      "cell_type": "code",
      "metadata": {
        "id": "RlqZj2ZXQJ9c"
      },
      "source": [
        "training_generator, testing_generator = get_generators(\n",
        "    images_list=imgs_list, \n",
        "    image_dir=images_dir, \n",
        "    image_size=image_size, \n",
        "    batch_size=batch_size, \n",
        "    class_mode='episode_flat', \n",
        "    episode_len=EPIS_LEN, \n",
        "    episode_shift=EPIS_SHIFT\n",
        ")"
      ],
      "execution_count": null,
      "outputs": []
    },
    {
      "cell_type": "code",
      "metadata": {
        "id": "A_HTL_wwQJ9f"
      },
      "source": [
        "import tensorflow as tf"
      ],
      "execution_count": null,
      "outputs": []
    },
    {
      "cell_type": "code",
      "metadata": {
        "id": "lVKEmGpYQJ9i"
      },
      "source": [
        "train_ds = tf.data.Dataset.from_generator(\n",
        "    lambda: training_generator, \n",
        "    output_types=(tf.float32, tf.float32) ,\n",
        "    output_shapes=(tf.TensorShape((batch_size* EPIS_LEN, ) + image_size), \n",
        "                   tf.TensorShape((batch_size* EPIS_LEN, ) + image_size)\n",
        "                  )\n",
        ")\n",
        "\n",
        "test_ds = tf.data.Dataset.from_generator(\n",
        "    lambda: testing_generator,     \n",
        "    output_types=(tf.float32, tf.float32) ,\n",
        "    output_shapes=(tf.TensorShape((batch_size* EPIS_LEN, ) + image_size), \n",
        "                   tf.TensorShape((batch_size* EPIS_LEN, ) + image_size)\n",
        "                  )\n",
        ")"
      ],
      "execution_count": null,
      "outputs": []
    },
    {
      "cell_type": "code",
      "metadata": {
        "id": "v30oJ2u2QJ9m"
      },
      "source": [
        "_instance_scale=1.0\n",
        "for data in train_ds:\n",
        "    _instance_scale = float(data[0].numpy().max())\n",
        "    break"
      ],
      "execution_count": null,
      "outputs": []
    },
    {
      "cell_type": "code",
      "metadata": {
        "id": "Cx9H9rTFQJ9o"
      },
      "source": [
        "_instance_scale = 1.0"
      ],
      "execution_count": null,
      "outputs": []
    },
    {
      "cell_type": "code",
      "metadata": {
        "id": "3V3KumtdQJ9s"
      },
      "source": [
        "import numpy as np\n",
        "from collections.abc import Iterable\n",
        "if isinstance(inputs_shape, Iterable):\n",
        "    _outputs_shape = np.prod(inputs_shape)"
      ],
      "execution_count": null,
      "outputs": []
    },
    {
      "cell_type": "code",
      "metadata": {
        "id": "DmSQQKvIQJ9v"
      },
      "source": [
        "np.product(inputs_shape)"
      ],
      "execution_count": null,
      "outputs": []
    },
    {
      "cell_type": "code",
      "metadata": {
        "id": "t1Y9gf_GQJ9y"
      },
      "source": [
        "inputs_shape"
      ],
      "execution_count": null,
      "outputs": []
    },
    {
      "cell_type": "markdown",
      "metadata": {
        "id": "tm0WSFF3QJ91"
      },
      "source": [
        "# Model's Layers definition"
      ]
    },
    {
      "cell_type": "code",
      "metadata": {
        "pycharm": {
          "name": "#%%\n"
        },
        "id": "a0E9qftBQJ92"
      },
      "source": [
        "units=30\n",
        "c=(image_size[0]//4, image_size[1]//6, intermediate_dim//2) # now 4x and 6x smaller since kernels are 2 and 3 \n",
        "enc_lays = [\n",
        "    tf.keras.layers.Conv2D(filters=units, kernel_size=3, strides=(2, 2), activation='relu'),\n",
        "    tf.keras.layers.Conv2D(filters=units//5, kernel_size=3, strides=(2, 3), activation='relu'),\n",
        "    tf.keras.layers.Flatten(),\n",
        "    # No activation\n",
        "    tf.keras.layers.Dense(latents_dim)\n",
        "]\n",
        "\n",
        "dec_lays = [\n",
        "    tf.keras.layers.Dense(units=np.product(c), activation=tf.nn.relu),\n",
        "    tf.keras.layers.Reshape(target_shape=c),\n",
        "    tf.keras.layers.Conv2DTranspose(filters=units//5, kernel_size=3, strides=(2, 3), padding=\"SAME\", activation='relu'),\n",
        "    tf.keras.layers.Conv2DTranspose(filters=units, kernel_size=3, strides=(2, 2), padding=\"SAME\", activation='relu'),\n",
        "    \n",
        "    # No activation\n",
        "    tf.keras.layers.Conv2DTranspose(filters=3, kernel_size=3, strides=(1, 1), padding=\"SAME\")\n",
        "]"
      ],
      "execution_count": null,
      "outputs": []
    },
    {
      "cell_type": "markdown",
      "metadata": {
        "id": "fXcPTDwtQJ94"
      },
      "source": [
        "# Model definition"
      ]
    },
    {
      "cell_type": "code",
      "metadata": {
        "id": "v6xkShREQJ95"
      },
      "source": [
        "model_name = dataset_name+'AE_Convolutional_reconst_ell'\n",
        "experiments_dir=MAIN_SAVE_DIR +'experiments'+sep_local+model_name"
      ],
      "execution_count": null,
      "outputs": []
    },
    {
      "cell_type": "code",
      "metadata": {
        "scrolled": true,
        "id": "nDqHS59LQJ98"
      },
      "source": [
        "from training.autoencoding_basic.transformative.AE import autoencoder as AE"
      ],
      "execution_count": null,
      "outputs": []
    },
    {
      "cell_type": "code",
      "metadata": {
        "id": "pxiegPYdQJ9_"
      },
      "source": [
        "variables_params = \\\n",
        "[\n",
        "    {\n",
        "        'name': 'inference', \n",
        "        'inputs_shape':inputs_shape,\n",
        "        'outputs_shape':latents_dim,\n",
        "        'layers': enc_lays\n",
        "    }\n",
        "\n",
        "    ,\n",
        "    \n",
        "        {\n",
        "        'name': 'generative', \n",
        "        'inputs_shape':latents_dim,\n",
        "        'outputs_shape':inputs_shape,\n",
        "        'layers':dec_lays\n",
        "    }\n",
        "]"
      ],
      "execution_count": null,
      "outputs": []
    },
    {
      "cell_type": "code",
      "metadata": {
        "id": "SCmBRIWOQJ-B"
      },
      "source": [
        "from utils.data_and_files.file_utils import create_if_not_exist"
      ],
      "execution_count": null,
      "outputs": []
    },
    {
      "cell_type": "code",
      "metadata": {
        "id": "FqBqEOFsQJ-F"
      },
      "source": [
        "_restore = os.path.join(experiments_dir, 'var_save_dir')"
      ],
      "execution_count": null,
      "outputs": []
    },
    {
      "cell_type": "code",
      "metadata": {
        "id": "tqGinATGQJ-J"
      },
      "source": [
        "create_if_not_exist(_restore)\n",
        "_restore"
      ],
      "execution_count": null,
      "outputs": []
    },
    {
      "cell_type": "code",
      "metadata": {
        "id": "ftSs6aR6QJ-L"
      },
      "source": [
        "#to restore trained model, set filepath=_restore"
      ],
      "execution_count": null,
      "outputs": []
    },
    {
      "cell_type": "code",
      "metadata": {
        "id": "FbkhUsIjQJ-P"
      },
      "source": [
        "## Due to SSMI error we changed to batch_size*EPIS_LEN,"
      ],
      "execution_count": null,
      "outputs": []
    },
    {
      "cell_type": "code",
      "metadata": {
        "scrolled": false,
        "id": "mjcUKYzpQJ-T"
      },
      "source": [
        "ae = AE( \n",
        "    name=model_name,\n",
        "    latents_dim=latents_dim,\n",
        "    batch_size=batch_size* EPIS_LEN,\n",
        "    episode_len = 1,\n",
        "    variables_params=variables_params, \n",
        "    filepath=_restore\n",
        "    )"
      ],
      "execution_count": null,
      "outputs": []
    },
    {
      "cell_type": "code",
      "metadata": {
        "id": "9Pd2EWQ-QJ-X"
      },
      "source": [
        "#ae.compile(metrics=None)\n",
        "ae.compile()"
      ],
      "execution_count": null,
      "outputs": []
    },
    {
      "cell_type": "code",
      "metadata": {
        "id": "PXlVyaS-QJ-a"
      },
      "source": [
        "ae.get_inputs_shape()"
      ],
      "execution_count": null,
      "outputs": []
    },
    {
      "cell_type": "markdown",
      "metadata": {
        "id": "OyvmDSoGQJ-d"
      },
      "source": [
        "# Callbacks"
      ]
    },
    {
      "cell_type": "code",
      "metadata": {
        "id": "FEXv4iIgQJ-d"
      },
      "source": [
        "from training.callbacks.sample_generation import SampleGeneration\n",
        "from training.callbacks.save_model import ModelSaver"
      ],
      "execution_count": null,
      "outputs": []
    },
    {
      "cell_type": "code",
      "metadata": {
        "id": "hy_fgDSHQJ-i"
      },
      "source": [
        "es = tf.keras.callbacks.EarlyStopping(\n",
        "    monitor='loss', \n",
        "    min_delta=1e-12, \n",
        "    patience=12, \n",
        "    verbose=1, \n",
        "    restore_best_weights=False\n",
        ")"
      ],
      "execution_count": null,
      "outputs": []
    },
    {
      "cell_type": "code",
      "metadata": {
        "id": "5FYEvW0AQJ-l"
      },
      "source": [
        "ms = ModelSaver(filepath=_restore)"
      ],
      "execution_count": null,
      "outputs": []
    },
    {
      "cell_type": "code",
      "metadata": {
        "id": "PHn-GiRSQJ-n"
      },
      "source": [
        "csv_dir = os.path.join(experiments_dir, 'csv_dir')\n",
        "create_if_not_exist(csv_dir)\n",
        "csv_dir = os.path.join(csv_dir, ae.name+'.csv')\n",
        "csv_log = tf.keras.callbacks.CSVLogger(csv_dir, append=True)\n",
        "csv_dir"
      ],
      "execution_count": null,
      "outputs": []
    },
    {
      "cell_type": "code",
      "metadata": {
        "id": "XIqO8f6XQJ-q"
      },
      "source": [
        "image_gen_dir = os.path.join(experiments_dir, 'image_gen_dir')\n",
        "create_if_not_exist(image_gen_dir)"
      ],
      "execution_count": null,
      "outputs": []
    },
    {
      "cell_type": "code",
      "metadata": {
        "id": "Tvhias9rQJ-t"
      },
      "source": [
        "sg = SampleGeneration(latents_shape=latents_dim, filepath=image_gen_dir, gen_freq=5, save_img=True, gray_plot=False)"
      ],
      "execution_count": null,
      "outputs": []
    },
    {
      "cell_type": "code",
      "metadata": {
        "id": "hz_K4JnMQJ-w"
      },
      "source": [
        "import numpy as np"
      ],
      "execution_count": null,
      "outputs": []
    },
    {
      "cell_type": "markdown",
      "metadata": {
        "id": "TQGKTwmIQJ-y"
      },
      "source": [
        "# Model Training"
      ]
    },
    {
      "cell_type": "code",
      "metadata": {
        "pycharm": {
          "is_executing": true
        },
        "scrolled": false,
        "id": "CyXt6FR3QJ-y"
      },
      "source": [
        "ae.fit(\n",
        "    x=train_ds,\n",
        "    input_kw=None,\n",
        "    steps_per_epoch=int(1e4),\n",
        "    epochs=int(1e6), \n",
        "    verbose=1,\n",
        "    callbacks=[ es, ms, csv_log, sg],\n",
        "    workers=-1,\n",
        "    use_multiprocessing=True,\n",
        "    validation_data=test_ds,\n",
        "    validation_steps=int(1e4)\n",
        ")"
      ],
      "execution_count": null,
      "outputs": []
    },
    {
      "cell_type": "code",
      "metadata": {
        "pycharm": {
          "is_executing": true
        },
        "id": "Lw7RQhYPQJ-1"
      },
      "source": [
        "from google.colab import output #Audio beep to click link and authenticate drive\n",
        "output.eval_js('new Audio(\"https://upload.wikimedia.org/wikipedia/commons/0/05/Beep-09.ogg\").play()')"
      ],
      "execution_count": null,
      "outputs": []
    },
    {
      "cell_type": "markdown",
      "metadata": {
        "id": "hyGIWMw0QJ-3"
      },
      "source": [
        "# Model Evaluation"
      ]
    },
    {
      "cell_type": "markdown",
      "metadata": {
        "id": "om6cpn0MQJ-4"
      },
      "source": [
        "## inception_score"
      ]
    },
    {
      "cell_type": "code",
      "metadata": {
        "pycharm": {
          "is_executing": true
        },
        "id": "zhBedN1-QJ-5"
      },
      "source": [
        "from evaluation.generativity_metrics.inception_metrics import inception_score"
      ],
      "execution_count": null,
      "outputs": []
    },
    {
      "cell_type": "code",
      "metadata": {
        "pycharm": {
          "is_executing": true
        },
        "id": "hZmrohzhQJ-8"
      },
      "source": [
        "is_mean, is_sigma = inception_score(ae, tolerance_threshold=1e-6, max_iteration=200)\n",
        "print(f'inception_score mean: {is_mean}, sigma: {is_sigma}')"
      ],
      "execution_count": null,
      "outputs": []
    },
    {
      "cell_type": "markdown",
      "metadata": {
        "id": "UIBX3nkFQJ_A"
      },
      "source": [
        "## Frechet_inception_distance"
      ]
    },
    {
      "cell_type": "code",
      "metadata": {
        "pycharm": {
          "is_executing": true
        },
        "id": "Bc4WwORZQJ_B"
      },
      "source": [
        "from evaluation.generativity_metrics.inception_metrics import frechet_inception_distance"
      ],
      "execution_count": null,
      "outputs": []
    },
    {
      "cell_type": "code",
      "metadata": {
        "pycharm": {
          "is_executing": true
        },
        "id": "Pcn2SIf9QJ_F"
      },
      "source": [
        "fis_score = frechet_inception_distance(ae, training_generator, tolerance_threshold=1e-6, max_iteration=10, batch_size=32)\n",
        "print(f'frechet inception distance: {fis_score}')"
      ],
      "execution_count": null,
      "outputs": []
    },
    {
      "cell_type": "code",
      "metadata": {
        "pycharm": {
          "is_executing": true
        },
        "id": "B5Wdszy_QJ_I"
      },
      "source": [
        ""
      ],
      "execution_count": null,
      "outputs": []
    },
    {
      "cell_type": "markdown",
      "metadata": {
        "id": "pxOSw9zTQJ_L"
      },
      "source": [
        "## perceptual_path_length_score"
      ]
    },
    {
      "cell_type": "code",
      "metadata": {
        "pycharm": {
          "is_executing": true
        },
        "id": "CJDNYMfSQJ_L"
      },
      "source": [
        "from evaluation.generativity_metrics.perceptual_path_length import perceptual_path_length_score"
      ],
      "execution_count": null,
      "outputs": []
    },
    {
      "cell_type": "code",
      "metadata": {
        "pycharm": {
          "is_executing": true
        },
        "id": "84hzfRQKQJ_O"
      },
      "source": [
        "ppl_mean_score = perceptual_path_length_score(ae, training_generator, tolerance_threshold=1e-6, max_iteration=200, batch_size=32)\n",
        "print(f'perceptual path length score: {ppl_mean_score}')"
      ],
      "execution_count": null,
      "outputs": []
    },
    {
      "cell_type": "code",
      "metadata": {
        "pycharm": {
          "is_executing": true
        },
        "id": "sooKzGzQQJ_Q"
      },
      "source": [
        ""
      ],
      "execution_count": null,
      "outputs": []
    },
    {
      "cell_type": "markdown",
      "metadata": {
        "id": "uCauv_S7QJ_S"
      },
      "source": [
        "## precision score"
      ]
    },
    {
      "cell_type": "code",
      "metadata": {
        "pycharm": {
          "is_executing": true
        },
        "id": "fls9373nQJ_T"
      },
      "source": [
        "from evaluation.generativity_metrics.precision_recall import precision_score"
      ],
      "execution_count": null,
      "outputs": []
    },
    {
      "cell_type": "code",
      "metadata": {
        "pycharm": {
          "is_executing": true
        },
        "id": "77xnNTg2QJ_V"
      },
      "source": [
        "_precision_score = precision_score(ae, training_generator, tolerance_threshold=1e-6, max_iteration=200)\n",
        "print(f'precision score: {_precision_score}')"
      ],
      "execution_count": null,
      "outputs": []
    },
    {
      "cell_type": "markdown",
      "metadata": {
        "id": "FmFg_UvqQJ_Z"
      },
      "source": [
        "## recall score"
      ]
    },
    {
      "cell_type": "code",
      "metadata": {
        "pycharm": {
          "is_executing": true
        },
        "id": "MrkX9TIaQJ_a"
      },
      "source": [
        "from evaluation.generativity_metrics.precision_recall import recall_score"
      ],
      "execution_count": null,
      "outputs": []
    },
    {
      "cell_type": "code",
      "metadata": {
        "pycharm": {
          "is_executing": true
        },
        "id": "F-4or3I-QJ_c"
      },
      "source": [
        "_recall_score = recall_score(ae, training_generator, tolerance_threshold=1e-6, max_iteration=200)\n",
        "print(f'recall score: {_recall_score}')"
      ],
      "execution_count": null,
      "outputs": []
    },
    {
      "cell_type": "code",
      "metadata": {
        "pycharm": {
          "is_executing": true
        },
        "id": "mC2aHuA-QJ_f"
      },
      "source": [
        ""
      ],
      "execution_count": null,
      "outputs": []
    },
    {
      "cell_type": "markdown",
      "metadata": {
        "id": "3MsXIkSKQJ_l"
      },
      "source": [
        "# Image Generation"
      ]
    },
    {
      "cell_type": "markdown",
      "metadata": {
        "id": "gsTfwdEKQJ_l"
      },
      "source": [
        "## image reconstruction"
      ]
    },
    {
      "cell_type": "markdown",
      "metadata": {
        "id": "wPbD5xjiQJ_m"
      },
      "source": [
        "### Training dataset"
      ]
    },
    {
      "cell_type": "code",
      "metadata": {
        "pycharm": {
          "is_executing": true
        },
        "id": "oxtUZWXmQJ_m"
      },
      "source": [
        "%load_ext autoreload\n",
        "%autoreload 2"
      ],
      "execution_count": null,
      "outputs": []
    },
    {
      "cell_type": "code",
      "metadata": {
        "pycharm": {
          "is_executing": true
        },
        "id": "dzxiVJHbQJ_q"
      },
      "source": [
        "from training.generators.image_generation_testing import reconstruct_from_a_batch"
      ],
      "execution_count": null,
      "outputs": []
    },
    {
      "cell_type": "code",
      "metadata": {
        "pycharm": {
          "is_executing": true
        },
        "id": "SG5sfDDYQJ_u"
      },
      "source": [
        "from utils.data_and_files.file_utils import create_if_not_exist\n",
        "save_dir = os.path.join(experiments_dir, 'reconstruct_training_images_like_a_batch_dir')\n",
        "create_if_not_exist(save_dir)\n",
        "\n",
        "reconstruct_from_a_batch(ae, training_generator, save_dir)"
      ],
      "execution_count": null,
      "outputs": []
    },
    {
      "cell_type": "code",
      "metadata": {
        "pycharm": {
          "is_executing": true
        },
        "id": "geLK4-htQJ_x"
      },
      "source": [
        "from utils.data_and_files.file_utils import create_if_not_exist\n",
        "save_dir = os.path.join(experiments_dir, 'reconstruct_testing_images_like_a_batch_dir')\n",
        "create_if_not_exist(save_dir)\n",
        "\n",
        "reconstruct_from_a_batch(ae, testing_generator, save_dir)"
      ],
      "execution_count": null,
      "outputs": []
    },
    {
      "cell_type": "markdown",
      "metadata": {
        "id": "mspYqmklQJ_1"
      },
      "source": [
        "## with Randomness"
      ]
    },
    {
      "cell_type": "code",
      "metadata": {
        "pycharm": {
          "is_executing": true
        },
        "id": "Ja3QqzCtQJ_1"
      },
      "source": [
        "from training.generators.image_generation_testing import generate_images_like_a_batch"
      ],
      "execution_count": null,
      "outputs": []
    },
    {
      "cell_type": "code",
      "metadata": {
        "pycharm": {
          "is_executing": true
        },
        "id": "wcAA2nxJQJ_4"
      },
      "source": [
        "from utils.data_and_files.file_utils import create_if_not_exist\n",
        "save_dir = os.path.join(experiments_dir, 'generate_training_images_like_a_batch_dir')\n",
        "create_if_not_exist(save_dir)\n",
        "\n",
        "generate_images_like_a_batch(ae, training_generator, save_dir)"
      ],
      "execution_count": null,
      "outputs": []
    },
    {
      "cell_type": "code",
      "metadata": {
        "pycharm": {
          "is_executing": true
        },
        "id": "PbOohldCQJ_6"
      },
      "source": [
        "from utils.data_and_files.file_utils import create_if_not_exist\n",
        "save_dir = os.path.join(experiments_dir, 'generate_testing_images_like_a_batch_dir')\n",
        "create_if_not_exist(save_dir)\n",
        "\n",
        "generate_images_like_a_batch(ae, testing_generator, save_dir)"
      ],
      "execution_count": null,
      "outputs": []
    },
    {
      "cell_type": "code",
      "metadata": {
        "pycharm": {
          "is_executing": true
        },
        "id": "kBpXpjBlQJ_9"
      },
      "source": [
        ""
      ],
      "execution_count": null,
      "outputs": []
    },
    {
      "cell_type": "markdown",
      "metadata": {
        "id": "wJfJ_Z8aQJ__"
      },
      "source": [
        "### Complete Randomness"
      ]
    },
    {
      "cell_type": "code",
      "metadata": {
        "pycharm": {
          "is_executing": true
        },
        "id": "LXFqlPO0QKAA"
      },
      "source": [
        "from training.generators.image_generation_testing import generate_images_randomly"
      ],
      "execution_count": null,
      "outputs": []
    },
    {
      "cell_type": "code",
      "metadata": {
        "pycharm": {
          "is_executing": true
        },
        "id": "L69OP0MZQKAC"
      },
      "source": [
        "from utils.data_and_files.file_utils import create_if_not_exist\n",
        "save_dir = os.path.join(experiments_dir, 'random_synthetic_dir')\n",
        "create_if_not_exist(save_dir)\n",
        "\n",
        "generate_images_randomly(ae, save_dir)"
      ],
      "execution_count": null,
      "outputs": []
    },
    {
      "cell_type": "code",
      "metadata": {
        "pycharm": {
          "is_executing": true
        },
        "id": "NpDWQhWhQKAE"
      },
      "source": [
        "from training.generators.image_generation_testing import interpolate_a_batch"
      ],
      "execution_count": null,
      "outputs": []
    },
    {
      "cell_type": "code",
      "metadata": {
        "pycharm": {
          "is_executing": true
        },
        "scrolled": false,
        "id": "LTj1e5UBQKAG"
      },
      "source": [
        "from utils.data_and_files.file_utils import create_if_not_exist\n",
        "save_dir = os.path.join(experiments_dir, 'interpolate_dir')\n",
        "create_if_not_exist(save_dir)\n",
        "\n",
        "interpolate_a_batch(ae, testing_generator, save_dir)"
      ],
      "execution_count": null,
      "outputs": []
    },
    {
      "cell_type": "markdown",
      "metadata": {
        "pycharm": {
          "name": "#%% md\n"
        },
        "id": "rGs5Y689QKAI"
      },
      "source": [
        "### Stacked inputs outputs and predictions "
      ]
    },
    {
      "cell_type": "code",
      "metadata": {
        "pycharm": {
          "is_executing": true
        },
        "id": "HUzE0wZHQKAI"
      },
      "source": [
        "from training.generators.image_generation_testing import predict_from_a_batch"
      ],
      "execution_count": null,
      "outputs": []
    },
    {
      "cell_type": "code",
      "metadata": {
        "pycharm": {
          "is_executing": true,
          "name": "#%%\n"
        },
        "id": "XzcBH2_yQKAJ"
      },
      "source": [
        "from utils.data_and_files.file_utils import create_if_not_exist\n",
        "save_dir = os.path.join(experiments_dir, 'predictions')\n",
        "create_if_not_exist(save_dir)\n",
        "\n",
        "predict_from_a_batch(ae, testing_generator, save_dir)"
      ],
      "execution_count": null,
      "outputs": []
    }
  ]
}